{
 "cells": [
  {
   "cell_type": "markdown",
   "id": "b0a31f43-bedf-4e02-b7c1-d7d31cceefda",
   "metadata": {
    "tags": []
   },
   "source": [
    "# Data Science Tools and Ecosystem\n"
   ]
  },
  {
   "cell_type": "markdown",
   "id": "d0b00dea-47a0-474f-8395-83bf58301420",
   "metadata": {
    "tags": []
   },
   "source": [
    "In this notebook, Data Science Tools and Ecosystem are summarized.\n"
   ]
  },
  {
   "cell_type": "markdown",
   "id": "33265d77-499b-4cfe-af60-1e43fdde0118",
   "metadata": {
    "tags": []
   },
   "source": [
    "Some of the popular languages that Data Scientists use are:\n",
    "\n",
    "1. Python \n",
    "2. R \n",
    "3. SQL"
   ]
  },
  {
   "cell_type": "markdown",
   "id": "4b0ea850-5153-417f-a058-9ba94209fde1",
   "metadata": {
    "tags": []
   },
   "source": [
    "Some of the commonly used libraries used by Data Scientists include:\n",
    "\n",
    "1. NumPy\n",
    "2. Pandas\n",
    "3. scikit-learn\n",
    "4. Matplotlib\n",
    "5. TensorFlow/PyTorch"
   ]
  },
  {
   "cell_type": "markdown",
   "id": "22132bed-b510-49b6-8ea0-ceff05f5aae5",
   "metadata": {
    "tags": []
   },
   "source": [
    "| Data Science Tools|\n",
    "|---------------------------------|\n",
    "| Jupyter Notebook|\n",
    "| Visual Studio Code|\n",
    "| PyCharm|\n"
   ]
  },
  {
   "cell_type": "markdown",
   "id": "9f11a508-45ff-49e6-9a69-b33a700e3810",
   "metadata": {
    "tags": []
   },
   "source": [
    "### Below are a few examples of evaluating arithmetic expressions in Python.\n"
   ]
  },
  {
   "cell_type": "code",
   "execution_count": 46,
   "id": "afd4b840-844b-4289-b50c-a466f35195fc",
   "metadata": {
    "tags": []
   },
   "outputs": [
    {
     "name": "stdout",
     "output_type": "stream",
     "text": [
      "17\n"
     ]
    }
   ],
   "source": [
    "# This a simple arithmetic expression to multiply then add integers.\n",
    "result = (3 * 4) + 5\n",
    "print(result)\n"
   ]
  },
  {
   "cell_type": "code",
   "execution_count": 45,
   "id": "95e2f1c2-75c5-4974-b5fa-8f44dc86bae5",
   "metadata": {
    "tags": []
   },
   "outputs": [
    {
     "name": "stdout",
     "output_type": "stream",
     "text": [
      "3.3333333333333335\n"
     ]
    }
   ],
   "source": [
    "# This will convert 200 minutes to hours by dividing by 60.\n",
    "minutes = 200\n",
    "hours = minutes / 60\n",
    "print(hours)\n"
   ]
  },
  {
   "cell_type": "markdown",
   "id": "525b38e7-f9fc-4f02-8529-a2837b223325",
   "metadata": {
    "tags": []
   },
   "source": [
    "**Objectives:**\n",
    "\n",
    "* List popular languages for Data Science.\n",
    "* Create basic arithmetic expressions in Python.\n",
    "* Convert units using Python code.\n",
    "* Explore different markdown elements for documentation.\n",
    "* Document notebook authorship.\n"
   ]
  },
  {
   "cell_type": "markdown",
   "id": "21f668fe-909c-4095-90ec-5a62acbb3f36",
   "metadata": {
    "tags": []
   },
   "source": [
    "# Author\n",
    "\n",
    "Francisco Sirvent Candea\n"
   ]
  },
  {
   "cell_type": "code",
   "execution_count": null,
   "id": "b6be06a2-14c0-48fd-92bf-02cf58c6191f",
   "metadata": {},
   "outputs": [],
   "source": []
  }
 ],
 "metadata": {
  "kernelspec": {
   "display_name": "Python 3 (ipykernel)",
   "language": "python",
   "name": "python3"
  },
  "language_info": {
   "codemirror_mode": {
    "name": "ipython",
    "version": 3
   },
   "file_extension": ".py",
   "mimetype": "text/x-python",
   "name": "python",
   "nbconvert_exporter": "python",
   "pygments_lexer": "ipython3",
   "version": "3.11.5"
  }
 },
 "nbformat": 4,
 "nbformat_minor": 5
}
